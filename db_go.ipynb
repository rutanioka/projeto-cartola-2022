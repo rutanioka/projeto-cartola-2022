{
  "nbformat": 4,
  "nbformat_minor": 0,
  "metadata": {
    "colab": {
      "provenance": [],
      "mount_file_id": "1KLJF8xht8cvajNDHU4_fxTnqdSl4bII6",
      "authorship_tag": "ABX9TyOYxQK+5qatyC+F2apzietT",
      "include_colab_link": true
    },
    "kernelspec": {
      "name": "python3",
      "display_name": "Python 3"
    },
    "language_info": {
      "name": "python"
    }
  },
  "cells": [
    {
      "cell_type": "markdown",
      "metadata": {
        "id": "view-in-github",
        "colab_type": "text"
      },
      "source": [
        "<a href=\"https://colab.research.google.com/github/rutanioka/projeto-cartola-2022/blob/main/db_go.ipynb\" target=\"_parent\"><img src=\"https://colab.research.google.com/assets/colab-badge.svg\" alt=\"Open In Colab\"/></a>"
      ]
    },
    {
      "cell_type": "code",
      "source": [
        "!apt install golang"
      ],
      "metadata": {
        "colab": {
          "base_uri": "https://localhost:8080/"
        },
        "id": "rIpLqdoWSR7D",
        "outputId": "dcb0fdce-a652-43a5-848d-bab8951ae6c7"
      },
      "execution_count": 7,
      "outputs": [
        {
          "output_type": "stream",
          "name": "stdout",
          "text": [
            "Reading package lists... Done\n",
            "Building dependency tree       \n",
            "Reading state information... Done\n",
            "The following package was automatically installed and is no longer required:\n",
            "  libnvidia-common-460\n",
            "Use 'apt autoremove' to remove it.\n",
            "The following additional packages will be installed:\n",
            "  golang-1.10 golang-1.10-doc golang-1.10-go golang-1.10-race-detector-runtime\n",
            "  golang-1.10-src golang-doc golang-go golang-race-detector-runtime golang-src\n",
            "Suggested packages:\n",
            "  bzr mercurial subversion\n",
            "The following NEW packages will be installed:\n",
            "  golang golang-1.10 golang-1.10-doc golang-1.10-go\n",
            "  golang-1.10-race-detector-runtime golang-1.10-src golang-doc golang-go\n",
            "  golang-race-detector-runtime golang-src\n",
            "0 upgraded, 10 newly installed, 0 to remove and 20 not upgraded.\n",
            "Need to get 42.7 MB of archives.\n",
            "After this operation, 229 MB of additional disk space will be used.\n",
            "Get:1 http://archive.ubuntu.com/ubuntu bionic-updates/main amd64 golang-1.10-src amd64 1.10.4-2ubuntu1~18.04.2 [11.1 MB]\n",
            "Get:2 http://archive.ubuntu.com/ubuntu bionic-updates/main amd64 golang-1.10-go amd64 1.10.4-2ubuntu1~18.04.2 [28.6 MB]\n",
            "Get:3 http://archive.ubuntu.com/ubuntu bionic-updates/main amd64 golang-1.10-doc all 1.10.4-2ubuntu1~18.04.2 [2,419 kB]\n",
            "Get:4 http://archive.ubuntu.com/ubuntu bionic-updates/main amd64 golang-1.10 all 1.10.4-2ubuntu1~18.04.2 [11.2 kB]\n",
            "Get:5 http://archive.ubuntu.com/ubuntu bionic/main amd64 golang-src amd64 2:1.10~4ubuntu1 [3,676 B]\n",
            "Get:6 http://archive.ubuntu.com/ubuntu bionic/main amd64 golang-go amd64 2:1.10~4ubuntu1 [22.0 kB]\n",
            "Get:7 http://archive.ubuntu.com/ubuntu bionic/main amd64 golang-doc all 2:1.10~4ubuntu1 [2,944 B]\n",
            "Get:8 http://archive.ubuntu.com/ubuntu bionic/main amd64 golang amd64 2:1.10~4ubuntu1 [2,896 B]\n",
            "Get:9 http://archive.ubuntu.com/ubuntu bionic/main amd64 golang-1.10-race-detector-runtime amd64 0.0+svn285455-0ubuntu1 [478 kB]\n",
            "Get:10 http://archive.ubuntu.com/ubuntu bionic/main amd64 golang-race-detector-runtime amd64 2:1.10~4ubuntu1 [3,456 B]\n",
            "Fetched 42.7 MB in 1s (36.7 MB/s)\n",
            "Selecting previously unselected package golang-1.10-src.\n",
            "(Reading database ... 124013 files and directories currently installed.)\n",
            "Preparing to unpack .../0-golang-1.10-src_1.10.4-2ubuntu1~18.04.2_amd64.deb ...\n",
            "Unpacking golang-1.10-src (1.10.4-2ubuntu1~18.04.2) ...\n",
            "Selecting previously unselected package golang-1.10-go.\n",
            "Preparing to unpack .../1-golang-1.10-go_1.10.4-2ubuntu1~18.04.2_amd64.deb ...\n",
            "Unpacking golang-1.10-go (1.10.4-2ubuntu1~18.04.2) ...\n",
            "Selecting previously unselected package golang-1.10-doc.\n",
            "Preparing to unpack .../2-golang-1.10-doc_1.10.4-2ubuntu1~18.04.2_all.deb ...\n",
            "Unpacking golang-1.10-doc (1.10.4-2ubuntu1~18.04.2) ...\n",
            "Selecting previously unselected package golang-1.10.\n",
            "Preparing to unpack .../3-golang-1.10_1.10.4-2ubuntu1~18.04.2_all.deb ...\n",
            "Unpacking golang-1.10 (1.10.4-2ubuntu1~18.04.2) ...\n",
            "Selecting previously unselected package golang-src.\n",
            "Preparing to unpack .../4-golang-src_2%3a1.10~4ubuntu1_amd64.deb ...\n",
            "Unpacking golang-src (2:1.10~4ubuntu1) ...\n",
            "Selecting previously unselected package golang-go.\n",
            "Preparing to unpack .../5-golang-go_2%3a1.10~4ubuntu1_amd64.deb ...\n",
            "Unpacking golang-go (2:1.10~4ubuntu1) ...\n",
            "Selecting previously unselected package golang-doc.\n",
            "Preparing to unpack .../6-golang-doc_2%3a1.10~4ubuntu1_all.deb ...\n",
            "Unpacking golang-doc (2:1.10~4ubuntu1) ...\n",
            "Selecting previously unselected package golang.\n",
            "Preparing to unpack .../7-golang_2%3a1.10~4ubuntu1_amd64.deb ...\n",
            "Unpacking golang (2:1.10~4ubuntu1) ...\n",
            "Selecting previously unselected package golang-1.10-race-detector-runtime.\n",
            "Preparing to unpack .../8-golang-1.10-race-detector-runtime_0.0+svn285455-0ubuntu1_amd64.deb ...\n",
            "Unpacking golang-1.10-race-detector-runtime (0.0+svn285455-0ubuntu1) ...\n",
            "Selecting previously unselected package golang-race-detector-runtime.\n",
            "Preparing to unpack .../9-golang-race-detector-runtime_2%3a1.10~4ubuntu1_amd64.deb ...\n",
            "Unpacking golang-race-detector-runtime (2:1.10~4ubuntu1) ...\n",
            "Setting up golang-1.10-race-detector-runtime (0.0+svn285455-0ubuntu1) ...\n",
            "Setting up golang-race-detector-runtime (2:1.10~4ubuntu1) ...\n",
            "Setting up golang-1.10-src (1.10.4-2ubuntu1~18.04.2) ...\n",
            "Setting up golang-src (2:1.10~4ubuntu1) ...\n",
            "Setting up golang-1.10-go (1.10.4-2ubuntu1~18.04.2) ...\n",
            "Setting up golang-1.10-doc (1.10.4-2ubuntu1~18.04.2) ...\n",
            "Setting up golang-go (2:1.10~4ubuntu1) ...\n",
            "Setting up golang-1.10 (1.10.4-2ubuntu1~18.04.2) ...\n",
            "Setting up golang-doc (2:1.10~4ubuntu1) ...\n",
            "Setting up golang (2:1.10~4ubuntu1) ...\n",
            "Processing triggers for man-db (2.8.3-2ubuntu0.1) ...\n"
          ]
        }
      ]
    },
    {
      "cell_type": "code",
      "source": [
        "!go"
      ],
      "metadata": {
        "id": "Pu4wg6-1XWS0"
      },
      "execution_count": null,
      "outputs": []
    },
    {
      "cell_type": "code",
      "source": [
        "%%writefile db.go\n",
        "package db\n",
        "\n",
        "import(\n",
        "    \"context\"\n",
        "    \"database/sql\"\n",
        ")\n",
        "\n",
        "type DBTX interface {\n",
        "\tExecContext(context.Context, string, ...interface{}) (sql.Result, error)\n",
        "\tPrepareContext(context.Context, string) (*sql.Stmt, error)\n",
        "\tQueryContext(context.Context, string, ...interface{}) (*sql.Rows, error)\n",
        "\tQueryRowContext(context.Context, string, ...interface{}) *sql.Row\n",
        "}\n",
        "\n",
        "func New(db DBTX) *Queries {\n",
        "\treturn &Queries{db: db}\n",
        "}\n",
        "\n",
        "type Queries struct {\n",
        "\tdb DBTX\n",
        "}\n",
        "\n",
        "func (q *Queries) WithTx(tx *sql.Tx) *Queries {\n",
        "\treturn &Queries{\n",
        "\t\tdb: tx,\n",
        "\t}\n",
        "}\n",
        "\n"
      ],
      "metadata": {
        "colab": {
          "base_uri": "https://localhost:8080/"
        },
        "id": "UOX-puxfbT5T",
        "outputId": "032e5d25-e4e5-49b3-cb01-8803cfe0394e"
      },
      "execution_count": 11,
      "outputs": [
        {
          "output_type": "stream",
          "name": "stdout",
          "text": [
            "Overwriting db.go\n"
          ]
        }
      ]
    }
  ]
}